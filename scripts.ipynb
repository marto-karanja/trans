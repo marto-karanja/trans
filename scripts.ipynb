{
 "cells": [
  {
   "cell_type": "code",
   "outputs": [
    {
     "output_type": "execute_result",
     "data": {
      "text/plain": "'SELECT count(*), CATEGORY, PROCESSED from trans_links group by processed, category'"
     },
     "metadata": {},
     "execution_count": 3
    }
   ],
   "source": [
    "'''SELECT count(*), category, processed, short FROM `sol_inn_content` group by category, processed, short'''\n",
    "# links query\n",
    "'''SELECT count(*), CATEGORY, PROCESSED from trans_links group by processed, category'''\n",
    "# content query\n",
    "\n"
   ],
   "metadata": {},
   "execution_count": 3
  },
  {
   "cell_type": "code",
   "execution_count": 4,
   "metadata": {},
   "outputs": [],
   "source": [
    "# Run Crawler\n",
    "#scrapy crawl sol -s CLOSESPIDER_PAGECOUNT=3#scrapy crawl trans_links -s PCLOSESPIDER_ITEMOUNT=3"
   ]
  },
  {
   "cell_type": "code",
   "execution_count": 5,
   "metadata": {},
   "outputs": [
    {
     "output_type": "stream",
     "name": "stdout",
     "text": "2020-35-08: 09 35 AM\n"
    }
   ],
   "source": [
    "import time as tt\n",
    "current_date = tt.localtime()\n",
    "print(tt.strftime(\"%Y-%M-%d: %H %M %p\",current_date))\n",
    "#2020-05-07: 14 05 PM\n",
    "#trans links content economics links: 14650, humanities? \n"
   ]
  },
  {
   "cell_type": "code",
   "execution_count": 12,
   "metadata": {
    "tags": [
     "outputPrepend",
     "outputPrepend"
    ]
   },
   "outputs": [
    {
     "output_type": "stream",
     "name": "stdout",
     "text": "social-worlds-in-which-you-interact-fo-4784417.htm\nhttps://www.transtutors.com/questions/explaining-worldview-why-is-a-worldview-a-complex-of-various-components-and-how-do-t-4784290.htm\nhttps://www.transtutors.com/questions/explaining-snowball-and-random-sampling-any-help-would-be-appreciated-what-is-snowba-4784283.htm\nhttps://www.transtutors.com/questions/explain-using-current-how-a-small-signal-is-coupled-into-the-base-of-the-transistor--4784108.htm\nhttps://www.transtutors.com/questions/explain-the-statement-the-goal-of-interpersonal-communication-is-to-understand-not-t-4784064.htm\nhttps://www.transtutors.com/questions/explain-the-roles-of-the-family-in-today-s-diverse-society-include-how-you-as-an-ear-4784052.htm\nhttps://www.transtutors.com/questions/the-project-team-is-developing-an-app-for-ios-android-and-windows-phones-the-develop-4783852.htm\nhttps://www.transtutors.com/questions/explain-how-young-children-develop-understanding-in-basic-reading-skills-next-discus-4783792.htm\nhttps://www.transtutors.com/questions/explain-how-an-individualist-decision-making-style-would-affect-the-way-he-or-she-wo-4783673.htm\nhttps://www.transtutors.com/questions/expatriation-involvement-of-organization-in-global-economy-think-about-a-specific-or-4783559.htm\nhttps://www.transtutors.com/questions/exercise-think-of-a-recent-time-when-you-need-to-learn-a-new-skill-or-learn-new-info-4783528.htm\nhttps://www.transtutors.com/questions/ethics-and-diversity-in-the-workplace-choose-a-professional-organization-preferably--4782965.htm\nhttps://www.transtutors.com/questions/ethical-issue-problem-simulation-lynn-is-the-assistant-to-the-manager-of-a-mentoring-4782889.htm\nhttps://www.transtutors.com/questions/essay-1-1-write-a-1-page-essay-on-the-following-topic-differences-between-conflict-m-4782747.htm\nhttps://www.transtutors.com/questions/essay-1-poetry-analysis-gwen-harwood-in-the-park-choose-one-of-the-poems-assigned-la-4782745.htm\nhttps://www.transtutors.com/questions/essay-1-btwt-question-do-we-live-in-the-best-of-times-or-the-worst-of-times-works-ci-4782744.htm\nhttps://www.transtutors.com/questions/epistemology-a-compare-descartes-ways-of-knowing-to-plato-s-aristotle-s-augustine-s--4782667.htm\nhttps://www.transtutors.com/questions/1-why-is-the-family-considered-the-child-s-first-and-primary-teacher-describe-the-fa-4782505.htm\nhttps://www.transtutors.com/questions/employment-law-1-is-affirmative-action-in-government-jobs-schools-contracts-and-prog-4782446.htm\nhttps://www.transtutors.com/questions/effective-storytelling-involves-characters-conflict-and-resolution-some-examples-inc-4782114.htm\nhttps://www.transtutors.com/questions/effective-leadership-mother-teresa-bill-gates-and-oprah-winfrey-have-started-foundat-4782098.htm\nhttps://www.transtutors.com/questions/dq-1-week-3-motivation-8585-unread-replies119119-replies-dr-peter-drucker-has-stated-4781276.htm\nhttps://www.transtutors.com/questions/written-work-students-are-expected-to-write-effectively-organize--4780247.htm\nhttps://www.transtutors.com/questions/discuss-three-contemporary-issues-pertaining-to-american-indian-people-you-can-discu-4780141.htm\nhttps://www.transtutors.com/questions/discuss-one-of-the-specific-fallacies-explained-in-chapter-5-that-you-have-encounter-4779758.htm\nhttps://www.transtutors.com/questions/discuss-in-detail-the-anatomy-moi-and-signs-and-symptoms-of-this-injury-then-discuss-4779722.htm\nhttps://www.transtutors.com/questions/discuss-how-typical-american-family-influences-a-child-s-perceptions-and-attitudes-a-4779699.htm\nhttps://www.transtutors.com/questions/directions-the-objective-of-our-2-nd-response-paper-is-to-be-a-standard-five-paragra-4779430.htm\nhttps://www.transtutors.com/questions/developmentally-appropriate-practices-dap-in-a-classroom-what-type-of-classroom-envi-4779174.htm\nhttps://www.transtutors.com/questions/developmental-theory-perspective-on-culture-and-diversity-according-to-the-developme-4779172.htm\nhttps://www.transtutors.com/questions/develop-a-proposal-for-the-town-you-live-in-or-that-is-near-you-to-host-a-sport-even-4779061.htm\nhttps://www.transtutors.com/questions/describe-two-of-the-four-approaches-to-ethical-reasoning-please-include-an-example-o-4778730.htm\nhttps://www.transtutors.com/questions/describe-the-real-life-crisis-that-you-will-use-throughout-this-class-and-explain-th-4778636.htm\nhttps://www.transtutors.com/questions/describe-the-behavior-that-is-the-focus-of-your-post-please-note-the-selection-in-th-4778427.htm\nhttps://www.transtutors.com/questions/describe-culture-using-each-of-the-sociological-perspectives-structural-functional-c-4778243.htm\nhttps://www.transtutors.com/questions/defining-international-human-resource-functions-describe-the-priorities-for-designin-4777981.htm\nhttps://www.transtutors.com/questions/define-the-standards-and-parameters-that-health-care-professionals-must-have-in-orde-4777941.htm\nhttps://www.transtutors.com/questions/define-com-explain-how-communication-has-impacted-your-life-what-was-your-favorite-t-4777851.htm\nhttps://www.transtutors.com/questions/1-this-question-has-three-parts-answer-all-three-parts-in-about-5-well-developed-bod-4777757.htm\nhttps://www.transtutors.com/questions/dap-teaching-strategies-read-the-article-10-effective-dap-teaching-strategies-presen-4777578.htm\nhttps://www.transtutors.com/questions/cybersecurity-in-airports-and-airport-security-introductory-paragraph-to-topic-refer-4777526.htm\nhttps://www.transtutors.com/questions/cultural-learning-much-like-language-learning-as-a-child-occurs-both-intentionally-a-4777336.htm\nhttps://www.transtutors.com/questions/crisis-situations-have-you-either-encountered-a-crisis-situation-or-have-observed-a--4777155.htm\nhttps://www.transtutors.com/questions/contracting-with-the-federal-government-your-company-is-considering-targeting-the-fe-4776560.htm\nhttps://www.transtutors.com/questions/consider-the-rise-of-children-diagnosed-with-a-mental-illness-who-are-medicated-desc-4776262.htm\nhttps://www.transtutors.com/questions/concept-of-manufacturing-explosion-if-you-were-the-manufacturing-manager-for-a-compa-4775792.htm\nhttps://www.transtutors.com/questions/comparing-aspects-of-the-islamic-faith-to-other-religions-write-a-strong-precise-on--4775492.htm\nhttps://www.transtutors.com/questions/compare-and-contrast-the-terms-disability-and-chronic-illness-what-are-the-similarit-4775391.htm\nhttps://www.transtutors.com/questions/communications-written-assignment-a-go-online-and-find-a-website-for-an-organization-4775139.htm\nhttps://www.transtutors.com/questions/communication-pitfalls-in-marketing-select-a-case-study-you-can-look-for-your-case-s-4775127.htm\nhttps://www.transtutors.com/questions/cognitive-development-of-children-answering-the-questions-below-1-describe-the-typic-4774945.htm\nhttps://www.transtutors.com/questions/choose-two-works-that-address-a-common-theme-that-has-impacted-or-affected-american--4774677.htm\nhttps://www.transtutors.com/questions/choose-one-1-of-the-three-3-reading-selections-from-the-list-of-topic-choices-below--4774629.htm\nhttps://www.transtutors.com/questions/child-development-and-theory-explain-each-of-the-developmental-theories-and-give-me--4774505.htm\nhttps://www.transtutors.com/questions/chapter-11-quiz-1-sascha-believes-that-his-own-efforts-will-ultimately-determine-whe-4774288.htm\nhttps://www.transtutors.com/questions/cartesian-rationalism-and-the-resulting-mind-body-problem-3-4-pages-you-may-draw-upo-4773821.htm\nhttps://www.transtutors.com/questions/care-coordination-please-discusses-types-of-care-coordination-and-the-challenges-ass-4773774.htm\nhttps://www.transtutors.com/questions/briefly-describe-how-the-bible-is-related-to-the-topics-covered-in-the-course-an-int-4772792.htm\nhttps://www.transtutors.com/questions/boeing-company-prepare-an-operations-strategy-analysis-for-a-business-organization-b-4772540.htm\nhttps://www.transtutors.com/questions/balancing-teaching-workloads-brainstorm-for-some-thoughts-ideas-on-discussing-the-ch-4771805.htm\nhttps://www.transtutors.com/questions/avon-products-for-six-years-after-andrea-jung-became-ceo-of-avon-products-in-1999-re-4771673.htm\nhttps://www.transtutors.com/questions/attachment-emotions-and-traumatic-experiences-using-the-film-radio-flyer-as-an-examp-4771575.htm\nhttps://www.transtutors.com/questions/at-what-point-does-the-practice-of-medicine-leave-the-realm-of-a-helping-profession--4771546.htm\nhttps://www.transtutors.com/questions/assignment-ethics-research-paper-note-that-this-paper-is-an-essay-and-not-simply-a-r-4771099.htm\nhttps://www.transtutors.com/questions/assignment-objectives-1-summarize-the-different-types-of-contracts-in-healthcare-pur-4771029.htm\nhttps://www.transtutors.com/questions/1-how-do-you-decide-whether-people-would-learn-a-skill-best-if-they-practiced-it-as--4770399.htm\nhttps://www.transtutors.com/questions/arab-american-cultural-resources-and-strategies-the-arab-american-culture-today-ofte-4770297.htm\nhttps://www.transtutors.com/questions/approaches-to-learning-questions-describe-your-selected-learning-situation-compare-a-4770272.htm\nhttps://www.transtutors.com/questions/approaches-to-learning-questions-describe-your-selected-learning-situation-compare-a-4770271.htm\nhttps://www.transtutors.com/questions/anybody-could-possibly-help-me-by-showing-me-five-examples-of-annotated-bibliography-4770128.htm\nhttps://www.transtutors.com/questions/answer-the-following-questions-with-at-least-3-5-complete-sentences-discuss-the-evid-4769972.htm\nhttps://www.transtutors.com/questions/an-organization-that-you-belong-to-work-volunteer-church-has-just-asked-you-to-serve-4769543.htm\nhttps://www.transtutors.com/questions/an-explanation-of-how-motivation-influences-self-regulation-describe-two-specific-be-4769417.htm\nhttps://www.transtutors.com/questions/american-culture-melting-pot-or-salad-bowl-as-a-nation-of-immigrants-the-united-stat-4769148.htm\nhttps://www.transtutors.com/questions/adolescents-and-body-image-in-chapter-four-the-text-states-that-the-media-s-images-o-4768652.htm\nhttps://www.transtutors.com/questions/address-whether-strain-theory-could-be-applied-to-student-misconduct-such-as-cheatin-4768602.htm\nhttps://www.transtutors.com/questions/according-to-all-of-the-social-theories-and-the-theories-based-on-socialization-the--4768128.htm\nhttps://www.transtutors.com/questions/q1-couple-therapy-in-300-words-answer-by-reading-source-1-crawley-1998-couples-thera-4767979.htm\nhttps://www.transtutors.com/questions/psyc2071-similar-to-the-perception-assignment-this-assignment-again-puts--4767954.htm\nhttps://www.transtutors.com/questions/explain-the-following-terms-in-your-own-words-in-the-discussion-forum-positive-corre-4767519.htm\nhttps://www.transtutors.com/questions/explain-interventions-select-one-of-the-following-forms-of-crises-sexual-assault-par-4767173.htm\nhttps://www.transtutors.com/questions/explain-how-environmental-influences-may-increase-biodiversity-do-think-that-this-is-4766898.htm\nhttps://www.transtutors.com/questions/explain-political-socialization-and-agents-of-political-socialization-describe-your--4766671.htm\nhttps://www.transtutors.com/questions/exit-through-the-gift-shop-paper-film-exit-through-the-gift-shop-a-film-by-banksy-fo-4766515.htm\nhttps://www.transtutors.com/questions/examine-how-social-change-has-affected-at-least-two-generations-in-your-family-give--4765921.htm\nhttps://www.transtutors.com/questions/evolving-literary-formswhen-the-written-form-emerged-it-provided-a-historical-record-4765772.htm\nhttps://www.transtutors.com/questions/ethics-approximately-8-10-paged-double-spaced-12-point-font-1-margins-essay-analyzin-4765324.htm\nhttps://www.transtutors.com/questions/essay-read-in-the-real-world-retail-manufacturing-coca-cola-on-page-233-in-the-textb-4765042.htm\nhttps://www.transtutors.com/questions/essay-on-cuban-americans-essay-that-incorporates-the-topics-of-history-of-immigratio-4764992.htm\nhttps://www.transtutors.com/questions/essay-1-poetry-analysis-gwen-harwood-in-the-park-choose-one-of-the-poems-assigned-la-4764900.htm\nhttps://www.transtutors.com/questions/essay-1-instructions-and-checklist-narrative-argument-about-education-in-module-week-4764897.htm\nhttps://www.transtutors.com/questions/essay-1-choose-one-of-these-questions-descartes-argues-that-i-can-doubt-the-existenc-4764894.htm\nhttps://www.transtutors.com/questions/erikson-s-personality-theory-1-explain-how-a-selected-theory-will-influence-your-und-4764838.htm\nhttps://www.transtutors.com/questions/equation-s-c-ln-tf-is-based-on-the-assumption-that-the-heat-capacity-is-independent--4764762.htm\nhttps://www.transtutors.com/questions/epidemiology-slp-4-describe-the-four-common-causes-of-chronic-diseases-question-desc-4764743.htm\nhttps://www.transtutors.com/questions/eng110-college-writing-argumentative-writing-assignment-outline-due-by-11-59pm-on-su-4764444.htm\nhttps://www.transtutors.com/questions/eng-232literaturetextbook-the-norton-anthology-of-world-literature-shorter-third-edi-4764431.htm\nhttps://www.transtutors.com/questions/emily-dickinson-i-heard-a-fly-buzz-in-600-words-discuss-both-content-and-form-cite-o-4764246.htm\nhttps://www.transtutors.com/questions/1-what-were-the-major-commercial-centers-in-the-afro-eurasian-world-how-did-they-fos-4764177.htm\nhttps://www.transtutors.com/questions/effective-leadershipthe-person-i-need-the-paper-wrote-about-is-ryan-seacrest-and-the-4763913.htm\nhttps://www.transtutors.com/questions/educ-5311-human-growth-and-development-courseone-common-mistake-that-some-educators--4763818.htm\nhttps://www.transtutors.com/questions/each-student-will-analyze-the-performance-of-the-leadership-of-an-organization-assig-4762679.htm\nhttps://www.transtutors.com/questions/due-week-8-2-april-2012-2000-words-essay-on-a-set-topic-choose-one-of-the-below-ques-4762110.htm\nhttps://www.transtutors.com/questions/drawing-on-bronfenbrenner-s-ecological-model-see-chapter-1-how-would-you-explain-the-4761942.htm\nhttps://www.transtutors.com/questions/1-what-is-the-difference-between-ethics-and-the-law-2-how-is-leadership-integrity-ti-4761738.htm\nhttps://www.transtutors.com/questions/dq1discovery-and-delivery-skills-in-innovation-leadershipas-a-follow-up-to-your-unit-4761677.htm\nhttps://www.transtutors.com/questions/dq-1robin-hood-graded-read-the-robin-hood-case-c1-in-the-textbook-the-case-begins-ri-4761379.htm\nhttps://www.transtutors.com/questions/dq-1motivation-and-confidence-are-key-factors-to-success-professionally-academically-4761318.htm\nhttps://www.transtutors.com/questions/dq-1max-points-5-0-in-light-of-the-topic-of-sexuality-this-week-click-on-the-link-fo-4761311.htm\nhttps://www.transtutors.com/questions/1-what-is-a-hypothesis-2-what-is-a-theory-3-what-is-the-scientific-method-and-positi-4761066.htm\nhttps://www.transtutors.com/questions/does-maternal-instinct-exist-support-your-position-i-need-a-one-and-a-half-page-essa-4760736.htm\nhttps://www.transtutors.com/questions/do-you-have-the-correct-answers-to-the-precision-tool-company-case-22-assignment-1-1-4760400.htm\nhttps://www.transtutors.com/questions/distinguish-the-roles-of-cio-and-cso-in-terms-of-primary-responsibilities-why-was-it-4760019.htm\nhttps://www.transtutors.com/questions/discussionssocializationas-humans-we-become-aware-of-ourselves-as-belonging-to-a-gro-4759792.htm\nhttps://www.transtutors.com/questions/discussion-topic-coding-of-respiratory-diseases-can-be-confusing-due-to-the-similari-4759646.htm\nhttps://www.transtutors.com/questions/discussion-question-what-are-some-essential-skills-for-an-effective-project-manager--4759491.htm\nhttps://www.transtutors.com/questions/discussion-question-i-am-taking-bus-475-below-is-question-the-country-that-i-selecte-4759455.htm\nhttps://www.transtutors.com/questions/discussion-question-350-500-with-4-professional-or-scholarly-sources-consider-the-gl-4759428.htm\nhttps://www.transtutors.com/questions/discussion-question-1read-the-following-article-shelton-a-freeman-b-fish-a-bachman-j-4759412.htm\nhttps://www.transtutors.com/questions/discussion-board-human-relations-evaluate-three-ways-to-deal-constructively-with-com-4759169.htm\nhttps://www.transtutors.com/questions/discuss-your-idea-for-the-leadership-paper-to-include-an-outline-and-reason-why-the--4758789.htm\nhttps://www.transtutors.com/questions/discuss-what-a-like-kind-exchange-is-what-are-the-advantages-what-type-of-assets-are-4758625.htm\nhttps://www.transtutors.com/questions/discuss-the-role-of-nature-and-nurture-in-the-following-case-a-young-adult-who-regul-4758405.htm\nhttps://www.transtutors.com/questions/discuss-the-relationship-between-religion-human-rights-and-the-condition-of-vulnerab-4758351.htm\nhttps://www.transtutors.com/questions/discuss-the-importance-of-the-inductive-approach-in-qualitative-research-how-does-th-4758121.htm\nhttps://www.transtutors.com/questions/discuss-the-impact-of-the-theories-of-aristotle-on-art-in-the-northern-renaissance-e-4758076.htm\nhttps://www.transtutors.com/questions/discuss-options-for-dealing-with-missing-data-in-analyses-describe-the-importance-of-4757609.htm\nhttps://www.transtutors.com/questions/discuss-how-each-of-the-following-influence-the-socialization-process-in-children-fa-4757384.htm\nhttps://www.transtutors.com/questions/discuss-employee-motivation-as-it-relates-to-culture-and-consider-how-you-might-deve-4757303.htm\nhttps://www.transtutors.com/questions/1-using-a-retail-product-as-an-example-what-methods-of-distribution-would-you-consid-4757091.htm\nhttps://www.transtutors.com/questions/discover-sociology-second-edition-by-william-chambliss-and-daina-eglitis-choose-two-4757087.htm\nhttps://www.transtutors.com/questions/digital-representations-of-numeric-values-of-quantities-may-be-best-be-described-as--4756865.htm\nhttps://www.transtutors.com/questions/devry-mis535-week4-dq1-internet-and-the-web-graded-the-internet-and-the-web-are-not--4756517.htm\nhttps://www.transtutors.com/questions/1-try-your-hand-at-a-new-product-image-mark-or-logo-for-the-merchandise-of-your-favo-4756503.htm\nhttps://www.transtutors.com/questions/devry-hist410-week-4-midterm-latest-2015-october-1-question-tco-1-2-identify-and-ana-4756472.htm\nhttps://www.transtutors.com/questions/determining-the-health-of-a-community-and-nation-if-wellness-and-health-are-more-tha-4756102.htm\nhttps://www.transtutors.com/questions/determining-the-health-of-a-community-and-nation-if-wellness-and-health-are-more-tha-4756101.htm\nhttps://www.transtutors.com/questions/determine-two-2-actions-that-a-leader-could-take-in-order-to-exude-power-outside-of--4756019.htm\nhttps://www.transtutors.com/questions/details-in-750-1-000-words-contrast-the-simplicity-of-theory-x-theory-y-with-the-com-4755740.htm\nhttps://www.transtutors.com/questions/describe-your-family-environment-based-on-hagan-s-power-control-theory-do-you-see-yo-4755444.htm\nhttps://www.transtutors.com/questions/describe-the-social-cognitive-perspective-and-discuss-the-important-consequences-of--4755188.htm\nhttps://www.transtutors.com/questions/describe-in-your-own-words-one-internal-and-one-external-variable-that-influence-hea-4754548.htm\nhttps://www.transtutors.com/questions/describe-how-children-s-development-of-self-locomotion-is-an-example-of-their-active-4754376.htm\nhttps://www.transtutors.com/questions/describe-an-organizational-change-that-has-failed-what-caused-the-failure-what-would-4754189.htm\nhttps://www.transtutors.com/questions/describe-a-time-when-you-witnessed-the-intersection-of-faith-and-god-s-power-this-ca-4754145.htm\nhttps://www.transtutors.com/questions/describe-a-talent-or-skill-that-you-have-worked-to-develop-in-your-life-tell-us-a-bi-4754133.htm\nhttps://www.transtutors.com/questions/describe-a-situation-in-which-a-manager-s-or-a-friend-s-focus-of-control-authoritari-4754100.htm\nhttps://www.transtutors.com/questions/describe-a-postmortem-change-that-happens-to-the-body-state-at-what-point-after-deat-4754082.htm\nhttps://www.transtutors.com/questions/dear-tutors-i-need-help-doing-a-case-analysisthis-analysis-has-needs-to-have-the-fol-4753169.htm\n"
    }
   ],
   "source": [
    "#trans content\n",
    "# connect to database\n",
    "import MySQLdb\n",
    "category ='humanities'\n",
    "conn = MySQLdb.connect(user='kush', passwd='incorrect', db='crawls', host='localhost',charset=\"utf8\", use_unicode=True)\n",
    "cursor = conn.cursor()\n",
    "cursor.execute('SELECT link_no, link FROM trans_links where category = %s and processed=\"False\" order by link_no;',(category,))\n",
    "rows = cursor.fetchall()\n",
    "conn.close()\n",
    "for no,link  in rows:\n",
    "    print(link)\n",
    "\n"
   ]
  },
  {
   "cell_type": "code",
   "execution_count": 11,
   "metadata": {},
   "outputs": [],
   "source": [
    "#extract content\n",
    "#response.css(\"#divDescription::text\").extract()\n",
    "#response.css(\"#divDescription p::text\").extract()\n",
    "#loader.add_css('title', '.#hTitle::text', MapCompose(str.strip), Join())\n",
    "#title = response.css(\"#hTitle::text\").extract() \n",
    "#title = Join()(title).strip()\n"
   ]
  },
  {
   "cell_type": "code",
   "execution_count": null,
   "metadata": {},
   "outputs": [],
   "source": []
  }
 ],
 "metadata": {
  "language_info": {
   "name": "python",
   "codemirror_mode": {
    "name": "ipython",
    "version": 3
   },
   "version": "3.7.4-final"
  },
  "orig_nbformat": 2,
  "file_extension": ".py",
  "mimetype": "text/x-python",
  "name": "python",
  "npconvert_exporter": "python",
  "pygments_lexer": "ipython3",
  "version": 3,
  "kernelspec": {
   "name": "python3",
   "display_name": "Python 3"
  }
 },
 "nbformat": 4,
 "nbformat_minor": 2
}